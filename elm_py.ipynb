{
  "nbformat": 4,
  "nbformat_minor": 0,
  "metadata": {
    "colab": {
      "provenance": [],
      "collapsed_sections": [],
      "authorship_tag": "ABX9TyPESvubQh2Aqo0uY9YtYnIm",
      "include_colab_link": true
    },
    "kernelspec": {
      "name": "python3",
      "display_name": "Python 3"
    }
  },
  "cells": [
    {
      "cell_type": "markdown",
      "metadata": {
        "id": "view-in-github",
        "colab_type": "text"
      },
      "source": [
        "<a href=\"https://colab.research.google.com/github/sreemolgagarin/ML-project_2/blob/main/elm_py.ipynb\" target=\"_parent\"><img src=\"https://colab.research.google.com/assets/colab-badge.svg\" alt=\"Open In Colab\"/></a>"
      ]
    },
    {
      "cell_type": "code",
      "metadata": {
        "id": "mW4zaTj3GTSx"
      },
      "source": [
        "from sklearn.utils.extmath import safe_sparse_dot\n",
        "from sklearn.utils import as_float_array\n",
        "from scipy.linalg import pinv2\n",
        "from sklearn.utils import check_random_state, check_array\n",
        "from sklearn.preprocessing import LabelBinarizer\n",
        "import numpy as np\n",
        "class ElmClssifier():\n",
        "    \n",
        "    def __init__(self,n_hidden=20,random_state=0,binarizer=LabelBinarizer(0, 1)):\n",
        "        self.n_hidden = n_hidden\n",
        "        self.binarizer = binarizer\n",
        "        self.weights = None\n",
        "        self.biases = None\n",
        "        self.beta = None\n",
        "        self.random_state = random_state\n",
        "        self.class_predictions=None\n",
        "    \n",
        "    def getBeta(self):\n",
        "        return self.beta\n",
        "   \n",
        "    def compute_components(self,X):\n",
        "        rs = check_random_state(self.random_state)\n",
        "        n_features = X.shape[1]\n",
        "        hw_size = (n_features, self.n_hidden)\n",
        "        self.weights = rs.normal(size=hw_size)\n",
        "        b_size = self.n_hidden\n",
        "        self.biases = rs.normal(size=b_size)\n",
        "\n",
        "    def compute_activation(self,X):\n",
        "        _sigmoid = (lambda x: 1.0/(1.0 + np.exp(-x)))\n",
        "        self.compute_components(X)\n",
        "        weighted_sum= safe_sparse_dot(X,self.weights)+self.biases\n",
        "        h_layer_acti = _sigmoid(weighted_sum)\n",
        "        return h_layer_acti\n",
        "        \n",
        "    def fit(self,X,y): \n",
        "        y_bin = self.binarizer.fit_transform(y)\n",
        "        h_layer_acti = self.compute_activation(X)\n",
        "        self.beta=safe_sparse_dot(pinv2(h_layer_acti),y)\n",
        "\n",
        "    def predict(self,X,y):\n",
        "        h_layer_acti = self.compute_activation(X)\n",
        "        predict=safe_sparse_dot(h_layer_acti,self.beta)\n",
        "        self.class_predictions = self.binarizer.inverse_transform(predict)\n",
        "        return self.class_predictions\n",
        "    \n",
        "    def regression_fit(self,X,y): \n",
        "        h_layer_acti = self.compute_activation(X)\n",
        "        self.beta=safe_sparse_dot(pinv2(h_layer_acti),y)\n",
        "\n",
        "    \n",
        "    def regression_predict(self,X,y):\n",
        "        h_layer_acti = self.compute_activation(X)\n",
        "        self.class_predictions=safe_sparse_dot(h_layer_acti,self.beta)\n",
        "        #self.class_predictions = self.binarizer.inverse_transform(predict)\n",
        "        return self.class_predictions\n",
        "    \n",
        "    def score(self,y):\n",
        "        from sklearn.metrics import accuracy_score\n",
        "        return accuracy_score(y,self.class_predictions) "
      ],
      "execution_count": null,
      "outputs": []
    }
  ]
}