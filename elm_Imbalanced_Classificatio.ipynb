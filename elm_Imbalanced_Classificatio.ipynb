{
  "nbformat": 4,
  "nbformat_minor": 0,
  "metadata": {
    "kernelspec": {
      "display_name": "Python 3",
      "language": "python",
      "name": "python3"
    },
    "language_info": {
      "codemirror_mode": {
        "name": "ipython",
        "version": 3
      },
      "file_extension": ".py",
      "mimetype": "text/x-python",
      "name": "python",
      "nbconvert_exporter": "python",
      "pygments_lexer": "ipython3",
      "version": "3.7.4"
    },
    "colab": {
      "provenance": [],
      "collapsed_sections": [],
      "include_colab_link": true
    }
  },
  "cells": [
    {
      "cell_type": "markdown",
      "metadata": {
        "id": "view-in-github",
        "colab_type": "text"
      },
      "source": [
        "<a href=\"https://colab.research.google.com/github/sreemolgagarin/ML-project_2/blob/main/elm_Imbalanced_Classificatio.ipynb\" target=\"_parent\"><img src=\"https://colab.research.google.com/assets/colab-badge.svg\" alt=\"Open In Colab\"/></a>"
      ]
    },
    {
      "cell_type": "code",
      "metadata": {
        "id": "vtNHFDkHGGGe"
      },
      "source": [
        "import pandas as pd\n",
        "import numpy as np\n",
        "import matplotlib.pyplot as plt"
      ],
      "execution_count": null,
      "outputs": []
    },
    {
      "cell_type": "code",
      "metadata": {
        "id": "6SACZK0iGGGr"
      },
      "source": [
        "def data_prep(file_name):\n",
        "    from sklearn.preprocessing import StandardScaler\n",
        "    stdsc = StandardScaler()\n",
        "    df = pd.read_csv(file_name)\n",
        "    data = df.to_numpy()\n",
        "    x = data[:,:-1]\n",
        "    y = data[:,-1]\n",
        "    x= stdsc.fit_transform(x)\n",
        "    return x,y\n",
        "        "
      ],
      "execution_count": null,
      "outputs": []
    },
    {
      "cell_type": "code",
      "metadata": {
        "id": "7lCGSROvGGGx"
      },
      "source": [
        "def find_clusters(X,no_of_clusters):\n",
        "    from sklearn.cluster import KMeans\n",
        "    kmeans = KMeans(n_clusters=no_of_clusters,init='k-means++')\n",
        "    kmeans.fit(X)\n",
        "    centroids = kmeans.cluster_centers_\n",
        "    clusters  = kmeans.labels_\n",
        "    return clusters, centroids\n",
        "\n",
        "    "
      ],
      "execution_count": null,
      "outputs": []
    },
    {
      "cell_type": "code",
      "metadata": {
        "id": "Bh7vfOM-GGG5"
      },
      "source": [
        "def select_samples(X_train,y_train,clusters,centroids):\n",
        "    \n",
        "    from sklearn.metrics.pairwise import euclidean_distances\n",
        "    k=105\n",
        "    knn = []\n",
        "    knn_class =[]\n",
        "    for cluster in np.unique(clusters):\n",
        "        indices = np.where(clusters == cluster)\n",
        "        indices = np.reshape(indices,(-1))\n",
        "        test_sample = X_train[indices[0]]\n",
        "        test_sample=np.reshape(test_sample,(-1,test_sample.shape[0]))\n",
        "        eu_dist = euclidean_distances(test_sample,centroids)\n",
        "        center  = centroids[np.argmin(eu_dist)] \n",
        "        center  = np.reshape(center,(-1,center.shape[0]))\n",
        "        X = []\n",
        "        for i in indices:\n",
        "            X.append(X_train[i])\n",
        "        dist_mat = euclidean_distances(center,X)\n",
        "        knn_index = dist_mat.argsort()\n",
        "        knn_index=np.reshape(knn_index,(-1))\n",
        "        count = 0\n",
        "        for j in knn_index:\n",
        "            knn.append(X_train[indices[j]])\n",
        "            knn_class.append(y_train[indices[j]])\n",
        "            count+=1\n",
        "            if count == k:\n",
        "                break;\n",
        "    knn = np.asarray(knn)\n",
        "    knn_class = np.asarray(knn_class)\n",
        "    #knn_class = np.reshape(knn_class,(knn_class.shape[0],-1))\n",
        "    knn_class = np.reshape(knn_class,(-1))\n",
        "    return knn, knn_class\n",
        "            \n",
        "            "
      ],
      "execution_count": null,
      "outputs": []
    },
    {
      "cell_type": "code",
      "metadata": {
        "id": "Xhm2YfTIGGG_"
      },
      "source": [
        "def SM_Oversampling(selected_samples,class_label):\n",
        "    from imblearn.over_sampling import SMOTE\n",
        "    smote = SMOTE(sampling_strategy=.69,random_state=0)\n",
        "    class_label = class_label.astype(int)\n",
        "    X_os,y_os = smote.fit_resample(selected_samples,class_label)\n",
        "    return X_os, y_os"
      ],
      "execution_count": null,
      "outputs": []
    },
    {
      "cell_type": "code",
      "metadata": {
        "id": "srocf15MGGHI"
      },
      "source": [
        "import seaborn as sn\n",
        "from sklearn.metrics import confusion_matrix\n",
        "def confusion_mat(y,y_predicted):\n",
        "    y=np.reshape(y,(-1))\n",
        "    cm=confusion_matrix(y,y_predicted)\n",
        "    df = pd.DataFrame(cm,index = ['Clss0','Class1'],columns=['Clss0','Class1'])\n",
        "    plt.figure(figsize=(3,2))\n",
        "    sn.heatmap(df,cmap=\"YlGnBu\", annot=True,fmt=\"d\")"
      ],
      "execution_count": null,
      "outputs": []
    },
    {
      "cell_type": "code",
      "metadata": {
        "id": "TjCoc4vuGGHO"
      },
      "source": [
        "from sklearn.model_selection import train_test_split,KFold\n",
        "X,Y = data_prep(\"cardiotocographyC10.csv\")\n",
        "train_X,test_X,train_y,test_y = train_test_split(X, Y, test_size=0.2)\n",
        "print(\"Numer of samples in initial training set\",train_X.shape[0])"
      ],
      "execution_count": null,
      "outputs": []
    },
    {
      "cell_type": "code",
      "metadata": {
        "id": "oXHgf32YGGHY"
      },
      "source": [
        "clusters, centroids = find_clusters(train_X,no_of_clusters=10)\n",
        "selected_samples,class_label = select_samples(train_X,train_y,clusters,centroids)\n",
        "print(\"Done\")"
      ],
      "execution_count": null,
      "outputs": []
    },
    {
      "cell_type": "code",
      "metadata": {
        "id": "XIG8k5IEGGHg"
      },
      "source": [
        "print(\"Number of instances in Majority and minority class before applying SMOTE:\" )\n",
        "label,count = np.unique(class_label,return_counts=True)\n",
        "print(count)\n",
        "X_os,y_os = SM_Oversampling(selected_samples,class_label)\n",
        "print(\"Number of instances in Majority and minority class after SMOTE are:\" )\n",
        "label,count = np.unique(y_os,return_counts=True)\n",
        "print(count)"
      ],
      "execution_count": null,
      "outputs": []
    },
    {
      "cell_type": "code",
      "metadata": {
        "id": "oz7s6yCCGGHo",
        "colab": {
          "base_uri": "https://localhost:8080/",
          "height": 321
        },
        "outputId": "8f8b359b-b22e-4193-c8ae-b1f6a136b106"
      },
      "source": [
        "from elm import ElmClssifier\n",
        "from OSELM import OSElmClassifier"
      ],
      "execution_count": null,
      "outputs": [
        {
          "output_type": "error",
          "ename": "ModuleNotFoundError",
          "evalue": "ignored",
          "traceback": [
            "\u001b[0;31m---------------------------------------------------------------------------\u001b[0m",
            "\u001b[0;31mModuleNotFoundError\u001b[0m                       Traceback (most recent call last)",
            "\u001b[0;32m<ipython-input-5-287a5527c6b3>\u001b[0m in \u001b[0;36m<module>\u001b[0;34m\u001b[0m\n\u001b[0;32m----> 1\u001b[0;31m \u001b[0;32mfrom\u001b[0m \u001b[0melm\u001b[0m \u001b[0;32mimport\u001b[0m \u001b[0mElmClssifier\u001b[0m\u001b[0;34m\u001b[0m\u001b[0;34m\u001b[0m\u001b[0m\n\u001b[0m\u001b[1;32m      2\u001b[0m \u001b[0;32mfrom\u001b[0m \u001b[0mOSELM\u001b[0m \u001b[0;32mimport\u001b[0m \u001b[0mOSElmClassifier\u001b[0m\u001b[0;34m\u001b[0m\u001b[0;34m\u001b[0m\u001b[0m\n",
            "\u001b[0;31mModuleNotFoundError\u001b[0m: No module named 'elm'",
            "",
            "\u001b[0;31m---------------------------------------------------------------------------\u001b[0;32m\nNOTE: If your import is failing due to a missing package, you can\nmanually install dependencies using either !pip or !apt.\n\nTo view examples of installing some common dependencies, click the\n\"Open Examples\" button below.\n\u001b[0;31m---------------------------------------------------------------------------\u001b[0m\n"
          ],
          "errorDetails": {
            "actions": [
              {
                "action": "open_url",
                "actionText": "Open Examples",
                "url": "/notebooks/snippets/importing_libraries.ipynb"
              }
            ]
          }
        }
      ]
    },
    {
      "cell_type": "code",
      "metadata": {
        "id": "CjLYe7otGGHx"
      },
      "source": [
        "elm=ElmClssifier(20)\n",
        "oselm = OSElmClassifier(20)\n",
        "elm_s=ElmClssifier(20)\n",
        "oselm_s = OSElmClassifier(30)\n",
        "\n",
        "elm.fit(selected_samples,class_label)\n",
        "oselm.fit(selected_samples,class_label)\n",
        "elm_s.fit(X_os,y_os)\n",
        "oselm_s.fit(X_os,y_os)\n",
        "n_batches = 5\n",
        "count = 0\n",
        "kf = KFold(n_splits=n_batches)\n",
        "for train_index, test_index in kf.split(test_X):\n",
        "    X_test,y_test = test_X[test_index],test_y[test_index]\n",
        "    oselm.train(X_test,y_test)\n",
        "    oselm_s.train(X_test,y_test)\n",
        "    if count == (n_batches-1):\n",
        "        '''print(\"Prediction Result of OSELM without SMOTE:\")\n",
        "        y_pred = oselm.predict(X_test,y_test)\n",
        "        print(oselm.score(y_test))\n",
        "        confusion_mat(y_test,y_pred)\n",
        "        plt.show()\n",
        "        print(\"Prediction Result of ELM without SMOTE:\")\n",
        "        y_pred_elm = elm.predict(X_test,y_test)\n",
        "        print(elm.score(y_test))\n",
        "        confusion_mat(y_test,y_pred_elm) \n",
        "        plt.show()\n",
        "        print()'''\n",
        "        print(\"Prediction Result of OSELM with SMOTE:\")\n",
        "        y_pred = oselm_s.predict(X_test,y_test)\n",
        "        print(oselm_s.score(y_test))\n",
        "        confusion_mat(y_test,y_pred)\n",
        "        plt.show()\n",
        "        '''print()\n",
        "        print(\"Presdiction Result of ELM with SMOTE:\")\n",
        "        y_pred_elm = elm_s.predict(X_test,y_test)\n",
        "        print(elm_s.score(y_test))\n",
        "        confusion_mat(y_test,y_pred_elm)\n",
        "        plt.show()'''\n",
        "        break;\n",
        "    count += 1"
      ],
      "execution_count": null,
      "outputs": []
    },
    {
      "cell_type": "code",
      "metadata": {
        "id": "EhhKHI6aGGH4"
      },
      "source": [
        "elm=ElmClssifier(30)\n",
        "oselm = OSElmClassifier(30)\n",
        "print(\"Results of ELM and OSELM with SMOTE:\")\n",
        "elm.fit(X_os,y_os)\n",
        "oselm.fit(X_os,y_os)\n",
        "n_batches = 10\n",
        "count = 0\n",
        "kf = KFold(n_splits=n_batches)\n",
        "for train_index, test_index in kf.split(test_X):\n",
        "    X_test,y_test = test_X[test_index],test_y[test_index]\n",
        "    oselm.train(X_test,y_test)\n",
        "    if count == (n_batches-1):\n",
        "        print(\"Presdiction Result of OSELM:\")\n",
        "        y_pred = oselm.predict(X_test,y_test)\n",
        "        print(oselm.score(y_test))\n",
        "        confusion_matrix(y_test,y_pred)\n",
        "        print(\"Presdiction Result of ELM:\")\n",
        "        y_pred_elm = elm.predict(X_test,y_test)\n",
        "        print(elm.score(y_test))\n",
        "        confusion_matrix(y_test,y_pred_elm) \n",
        "        break;\n",
        "    count += 1"
      ],
      "execution_count": null,
      "outputs": []
    },
    {
      "cell_type": "code",
      "metadata": {
        "id": "z9KQ86LOGGH-"
      },
      "source": [
        "\n",
        "def make_toy(x):\n",
        "    y = x*np.cos(x)+0.5*np.sqrt(x)*np.random.randn(x.shape[0])\n",
        "    x = x.reshape(-1,1)\n",
        "    y = y.reshape(-1,1)\n",
        "    return x, y\n"
      ],
      "execution_count": null,
      "outputs": []
    },
    {
      "cell_type": "code",
      "metadata": {
        "id": "3hz9h_NnGGID"
      },
      "source": [
        "stdsc = StandardScaler()\n",
        "x = np.arange(0.25,20,0.1)\n",
        "xtoy, ytoy = make_toy(x)\n",
        "xtoy, ytoy= stdsc.fit_transform(xtoy), stdsc.fit_transform(ytoy)\n",
        "'''x = np.arange(20.25,30,0.1)\n",
        "xtoy_test, ytoy_test = make_toy(x)\n",
        "print(xtoy_test.shape)\n",
        "xtoy, ytoy = np.concatenate((xtoy_train,xtoy_test),axis=0),np.concatenate((ytoy_train,ytoy_test),axis=0)\n",
        "print(xtoy.shape)\n",
        "xtoy, ytoy= stdsc.fit_transform(xtoy), stdsc.fit_transform(ytoy)\n",
        "n = xtoy_train.shape[0]\n",
        "xtrain, ytrain = xtoy[:n,:],ytoy[:n,:]\n",
        "xtest, ytest = xtoy[n:-1,:],ytoy[n:-1,:]'''\n",
        "xtrain, xtest, ytrain, ytest = train_test_split(xtoy, ytoy, test_size=0.6)\n",
        "print(\"# samples in training set:\",xtrain.shape[0])\n",
        "print(\"# samples in Test set:\",xtoy.shape[0])\n",
        "plt.plot(xtoy, ytoy)\n",
        "plt.xlabel('X')\n",
        "plt.ylabel('Y')\n",
        "plt.title('Test Data')\n",
        "#plt.legend()\n",
        "plt.show()"
      ],
      "execution_count": null,
      "outputs": []
    },
    {
      "cell_type": "code",
      "metadata": {
        "id": "FqWNueRGGGIL"
      },
      "source": [
        "oselm = OSElmClassifier(50)\n",
        "oselm.regression_fit(xtrain, ytrain )\n",
        "plt.plot(xtoy, ytoy,label = 'Test set')\n",
        "plt.plot(xtoy,oselm.regression_predict(xtoy, ytoy),label = 'OSELM Prediction')\n",
        "plt.xlabel('X')\n",
        "plt.ylabel('Y')\n",
        "plt.title('Test data Vs OSELM Prediction')\n",
        "plt.legend()\n",
        "plt.show()"
      ],
      "execution_count": null,
      "outputs": []
    },
    {
      "cell_type": "code",
      "metadata": {
        "id": "tvCSmJ6SGGIR"
      },
      "source": [],
      "execution_count": null,
      "outputs": []
    },
    {
      "cell_type": "code",
      "metadata": {
        "id": "_5rF5IlLGGIX"
      },
      "source": [],
      "execution_count": null,
      "outputs": []
    }
  ]
}